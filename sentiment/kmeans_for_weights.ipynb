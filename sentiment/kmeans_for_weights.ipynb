{
 "cells": [
  {
   "cell_type": "markdown",
   "id": "9df30663",
   "metadata": {},
   "source": [
    "### KMeans Clustering to find the optimal weights for each specific news source"
   ]
  },
  {
   "cell_type": "code",
   "execution_count": 1,
   "id": "1d14d4af",
   "metadata": {},
   "outputs": [],
   "source": [
    "import pandas as pd\n",
    "import numpy as np\n",
    "from sklearn.cluster import KMeans\n",
    "from sklearn.metrics import silhouette_score\n",
    "import matplotlib.pyplot as plt"
   ]
  },
  {
   "cell_type": "code",
   "execution_count": 4,
   "id": "bcb1ff59",
   "metadata": {},
   "outputs": [
    {
     "data": {
      "text/html": [
       "<div>\n",
       "<style scoped>\n",
       "    .dataframe tbody tr th:only-of-type {\n",
       "        vertical-align: middle;\n",
       "    }\n",
       "\n",
       "    .dataframe tbody tr th {\n",
       "        vertical-align: top;\n",
       "    }\n",
       "\n",
       "    .dataframe thead th {\n",
       "        text-align: right;\n",
       "    }\n",
       "</style>\n",
       "<table border=\"1\" class=\"dataframe\">\n",
       "  <thead>\n",
       "    <tr style=\"text-align: right;\">\n",
       "      <th></th>\n",
       "      <th>datetime</th>\n",
       "      <th>header</th>\n",
       "      <th>content</th>\n",
       "      <th>source</th>\n",
       "      <th>specific_source</th>\n",
       "      <th>link</th>\n",
       "      <th>risk score</th>\n",
       "    </tr>\n",
       "  </thead>\n",
       "  <tbody>\n",
       "    <tr>\n",
       "      <th>0</th>\n",
       "      <td>2025-03-15 17:55:00</td>\n",
       "      <td>The situation of the market</td>\n",
       "      <td>Many stocks in the market are significantly ov...</td>\n",
       "      <td>Reddit</td>\n",
       "      <td>investing</td>\n",
       "      <td>https://reddit.com/r/investing/comments/1jc0xk...</td>\n",
       "      <td>3</td>\n",
       "    </tr>\n",
       "    <tr>\n",
       "      <th>1</th>\n",
       "      <td>2025-03-15 18:26:00</td>\n",
       "      <td>Week Recap: Is the worst behind us? Mar. 10, 2...</td>\n",
       "      <td>First of all, I don’t want to be misunderstood...</td>\n",
       "      <td>Reddit</td>\n",
       "      <td>StockMarket</td>\n",
       "      <td>https://reddit.com/r/StockMarket/comments/1jc1...</td>\n",
       "      <td>4</td>\n",
       "    </tr>\n",
       "    <tr>\n",
       "      <th>2</th>\n",
       "      <td>2025-03-16 12:51:00</td>\n",
       "      <td>Convince me I shouldn't be a bear now, pt. 2.</td>\n",
       "      <td>Three weeks ago, I made [this](https://www.red...</td>\n",
       "      <td>Reddit</td>\n",
       "      <td>stocks</td>\n",
       "      <td>https://reddit.com/r/stocks/comments/1jckrcz/c...</td>\n",
       "      <td>3</td>\n",
       "    </tr>\n",
       "    <tr>\n",
       "      <th>3</th>\n",
       "      <td>2025-03-17 20:06:00</td>\n",
       "      <td>Mar. 17, 2025 - The S&amp;P 500 closed higher arou...</td>\n",
       "      <td>In the weekend, Scott Bessent said \"I’ve been ...</td>\n",
       "      <td>Reddit</td>\n",
       "      <td>StockMarket</td>\n",
       "      <td>https://reddit.com/r/StockMarket/comments/1jdm...</td>\n",
       "      <td>3</td>\n",
       "    </tr>\n",
       "    <tr>\n",
       "      <th>4</th>\n",
       "      <td>2025-03-18 00:20:00</td>\n",
       "      <td>POSITIONS FOR $800-&gt;$100k</td>\n",
       "      <td>Since yall can’t stop crying about my position...</td>\n",
       "      <td>Reddit</td>\n",
       "      <td>wallstreetbets</td>\n",
       "      <td>https://reddit.com/r/wallstreetbets/comments/1...</td>\n",
       "      <td>5</td>\n",
       "    </tr>\n",
       "  </tbody>\n",
       "</table>\n",
       "</div>"
      ],
      "text/plain": [
       "             datetime                                             header  \\\n",
       "0 2025-03-15 17:55:00                        The situation of the market   \n",
       "1 2025-03-15 18:26:00  Week Recap: Is the worst behind us? Mar. 10, 2...   \n",
       "2 2025-03-16 12:51:00      Convince me I shouldn't be a bear now, pt. 2.   \n",
       "3 2025-03-17 20:06:00  Mar. 17, 2025 - The S&P 500 closed higher arou...   \n",
       "4 2025-03-18 00:20:00                          POSITIONS FOR $800->$100k   \n",
       "\n",
       "                                             content  source specific_source  \\\n",
       "0  Many stocks in the market are significantly ov...  Reddit       investing   \n",
       "1  First of all, I don’t want to be misunderstood...  Reddit     StockMarket   \n",
       "2  Three weeks ago, I made [this](https://www.red...  Reddit          stocks   \n",
       "3  In the weekend, Scott Bessent said \"I’ve been ...  Reddit     StockMarket   \n",
       "4  Since yall can’t stop crying about my position...  Reddit  wallstreetbets   \n",
       "\n",
       "                                                link  risk score  \n",
       "0  https://reddit.com/r/investing/comments/1jc0xk...           3  \n",
       "1  https://reddit.com/r/StockMarket/comments/1jc1...           4  \n",
       "2  https://reddit.com/r/stocks/comments/1jckrcz/c...           3  \n",
       "3  https://reddit.com/r/StockMarket/comments/1jdm...           3  \n",
       "4  https://reddit.com/r/wallstreetbets/comments/1...           5  "
      ]
     },
     "execution_count": 4,
     "metadata": {},
     "output_type": "execute_result"
    }
   ],
   "source": [
    "df = pd.read_csv(\"news_with_risk_score.csv\")\n",
    "\n",
    "df['datetime'] = pd.to_datetime(df['datetime'])\n",
    "df = df.sort_values('datetime').reset_index(drop=True)\n",
    "df.head()"
   ]
  },
  {
   "cell_type": "markdown",
   "id": "15a3c42b",
   "metadata": {},
   "source": [
    "List all the unique sources"
   ]
  },
  {
   "cell_type": "code",
   "execution_count": 7,
   "id": "5c6ed418",
   "metadata": {},
   "outputs": [
    {
     "data": {
      "text/plain": [
       "['investing',\n",
       " 'StockMarket',\n",
       " 'stocks',\n",
       " 'wallstreetbets',\n",
       " 'Etfdailynews',\n",
       " 'Ndtv',\n",
       " 'Forbes',\n",
       " 'Globenewswire',\n",
       " 'Nbcnews',\n",
       " 'Investopedia',\n",
       " 'Bostonherald',\n",
       " 'Yahoo Finance',\n",
       " 'Coindesk',\n",
       " 'Foxbusiness',\n",
       " 'Telegraph',\n",
       " 'Fool',\n",
       " 'Techcrunch',\n",
       " 'Cnn',\n",
       " 'Thestreet',\n",
       " 'Verdict',\n",
       " 'Denverpost',\n",
       " 'Marketwatch']"
      ]
     },
     "execution_count": 7,
     "metadata": {},
     "output_type": "execute_result"
    }
   ],
   "source": [
    "unique_source = df['specific_source'].unique().tolist()\n",
    "unique_source"
   ]
  },
  {
   "cell_type": "code",
   "execution_count": 9,
   "id": "0956160c",
   "metadata": {},
   "outputs": [
    {
     "data": {
      "text/plain": [
       "22"
      ]
     },
     "execution_count": 9,
     "metadata": {},
     "output_type": "execute_result"
    }
   ],
   "source": [
    "len(unique_source)"
   ]
  },
  {
   "cell_type": "markdown",
   "id": "aea97b53",
   "metadata": {},
   "source": [
    "Round the time to the nearest hour and a half (e.g 8:30, 9:30..)"
   ]
  },
  {
   "cell_type": "code",
   "execution_count": 5,
   "id": "a94d5fa6",
   "metadata": {},
   "outputs": [],
   "source": [
    "def round_to_half_hour(dt):\n",
    "    # If minutes < 30 → set to previous half-hour (hh:30 of previous hour)\n",
    "    # If minutes >= 30 → set to hh:30 of current hour\n",
    "    return dt.replace(minute=30, second=0, microsecond=0) if dt.minute >= 30 else (dt - pd.Timedelta(hours=1)).replace(minute=30, second=0, microsecond=0)"
   ]
  },
  {
   "cell_type": "code",
   "execution_count": 6,
   "id": "132cb199",
   "metadata": {},
   "outputs": [],
   "source": [
    "df['hour'] = df['datetime'].apply(round_to_half_hour)"
   ]
  },
  {
   "cell_type": "code",
   "execution_count": 10,
   "id": "a04ed160",
   "metadata": {},
   "outputs": [],
   "source": [
    "pivot = df.pivot_table(index='hour',\n",
    "                       columns='specific_source',\n",
    "                       values='risk score',\n",
    "                       aggfunc='mean',\n",
    "                       fill_value=0)"
   ]
  },
  {
   "cell_type": "code",
   "execution_count": 11,
   "id": "5016992b",
   "metadata": {},
   "outputs": [
    {
     "data": {
      "text/html": [
       "<div>\n",
       "<style scoped>\n",
       "    .dataframe tbody tr th:only-of-type {\n",
       "        vertical-align: middle;\n",
       "    }\n",
       "\n",
       "    .dataframe tbody tr th {\n",
       "        vertical-align: top;\n",
       "    }\n",
       "\n",
       "    .dataframe thead th {\n",
       "        text-align: right;\n",
       "    }\n",
       "</style>\n",
       "<table border=\"1\" class=\"dataframe\">\n",
       "  <thead>\n",
       "    <tr style=\"text-align: right;\">\n",
       "      <th>specific_source</th>\n",
       "      <th>hour</th>\n",
       "      <th>Bostonherald</th>\n",
       "      <th>Cnn</th>\n",
       "      <th>Coindesk</th>\n",
       "      <th>Denverpost</th>\n",
       "      <th>Etfdailynews</th>\n",
       "      <th>Fool</th>\n",
       "      <th>Forbes</th>\n",
       "      <th>Foxbusiness</th>\n",
       "      <th>Globenewswire</th>\n",
       "      <th>...</th>\n",
       "      <th>Ndtv</th>\n",
       "      <th>StockMarket</th>\n",
       "      <th>Techcrunch</th>\n",
       "      <th>Telegraph</th>\n",
       "      <th>Thestreet</th>\n",
       "      <th>Verdict</th>\n",
       "      <th>Yahoo Finance</th>\n",
       "      <th>investing</th>\n",
       "      <th>stocks</th>\n",
       "      <th>wallstreetbets</th>\n",
       "    </tr>\n",
       "  </thead>\n",
       "  <tbody>\n",
       "    <tr>\n",
       "      <th>0</th>\n",
       "      <td>2025-03-15 17:30:00</td>\n",
       "      <td>0.0</td>\n",
       "      <td>0.0</td>\n",
       "      <td>0.0</td>\n",
       "      <td>0.0</td>\n",
       "      <td>0.0</td>\n",
       "      <td>0.0</td>\n",
       "      <td>0.0</td>\n",
       "      <td>0.0</td>\n",
       "      <td>0.0</td>\n",
       "      <td>...</td>\n",
       "      <td>0.0</td>\n",
       "      <td>4.0</td>\n",
       "      <td>0.0</td>\n",
       "      <td>0.0</td>\n",
       "      <td>0.0</td>\n",
       "      <td>0.0</td>\n",
       "      <td>0.0</td>\n",
       "      <td>3.0</td>\n",
       "      <td>0.0</td>\n",
       "      <td>0.0</td>\n",
       "    </tr>\n",
       "    <tr>\n",
       "      <th>1</th>\n",
       "      <td>2025-03-16 12:30:00</td>\n",
       "      <td>0.0</td>\n",
       "      <td>0.0</td>\n",
       "      <td>0.0</td>\n",
       "      <td>0.0</td>\n",
       "      <td>0.0</td>\n",
       "      <td>0.0</td>\n",
       "      <td>0.0</td>\n",
       "      <td>0.0</td>\n",
       "      <td>0.0</td>\n",
       "      <td>...</td>\n",
       "      <td>0.0</td>\n",
       "      <td>0.0</td>\n",
       "      <td>0.0</td>\n",
       "      <td>0.0</td>\n",
       "      <td>0.0</td>\n",
       "      <td>0.0</td>\n",
       "      <td>0.0</td>\n",
       "      <td>0.0</td>\n",
       "      <td>3.0</td>\n",
       "      <td>0.0</td>\n",
       "    </tr>\n",
       "    <tr>\n",
       "      <th>2</th>\n",
       "      <td>2025-03-17 19:30:00</td>\n",
       "      <td>0.0</td>\n",
       "      <td>0.0</td>\n",
       "      <td>0.0</td>\n",
       "      <td>0.0</td>\n",
       "      <td>0.0</td>\n",
       "      <td>0.0</td>\n",
       "      <td>0.0</td>\n",
       "      <td>0.0</td>\n",
       "      <td>0.0</td>\n",
       "      <td>...</td>\n",
       "      <td>0.0</td>\n",
       "      <td>3.0</td>\n",
       "      <td>0.0</td>\n",
       "      <td>0.0</td>\n",
       "      <td>0.0</td>\n",
       "      <td>0.0</td>\n",
       "      <td>0.0</td>\n",
       "      <td>0.0</td>\n",
       "      <td>0.0</td>\n",
       "      <td>0.0</td>\n",
       "    </tr>\n",
       "    <tr>\n",
       "      <th>3</th>\n",
       "      <td>2025-03-17 23:30:00</td>\n",
       "      <td>0.0</td>\n",
       "      <td>0.0</td>\n",
       "      <td>0.0</td>\n",
       "      <td>0.0</td>\n",
       "      <td>0.0</td>\n",
       "      <td>0.0</td>\n",
       "      <td>0.0</td>\n",
       "      <td>0.0</td>\n",
       "      <td>0.0</td>\n",
       "      <td>...</td>\n",
       "      <td>0.0</td>\n",
       "      <td>0.0</td>\n",
       "      <td>0.0</td>\n",
       "      <td>0.0</td>\n",
       "      <td>0.0</td>\n",
       "      <td>0.0</td>\n",
       "      <td>0.0</td>\n",
       "      <td>0.0</td>\n",
       "      <td>0.0</td>\n",
       "      <td>5.0</td>\n",
       "    </tr>\n",
       "    <tr>\n",
       "      <th>4</th>\n",
       "      <td>2025-03-18 18:30:00</td>\n",
       "      <td>0.0</td>\n",
       "      <td>0.0</td>\n",
       "      <td>0.0</td>\n",
       "      <td>0.0</td>\n",
       "      <td>0.0</td>\n",
       "      <td>0.0</td>\n",
       "      <td>0.0</td>\n",
       "      <td>0.0</td>\n",
       "      <td>0.0</td>\n",
       "      <td>...</td>\n",
       "      <td>0.0</td>\n",
       "      <td>0.0</td>\n",
       "      <td>0.0</td>\n",
       "      <td>0.0</td>\n",
       "      <td>0.0</td>\n",
       "      <td>0.0</td>\n",
       "      <td>0.0</td>\n",
       "      <td>0.0</td>\n",
       "      <td>4.0</td>\n",
       "      <td>0.0</td>\n",
       "    </tr>\n",
       "  </tbody>\n",
       "</table>\n",
       "<p>5 rows × 23 columns</p>\n",
       "</div>"
      ],
      "text/plain": [
       "specific_source                hour  Bostonherald  Cnn  Coindesk  Denverpost  \\\n",
       "0               2025-03-15 17:30:00           0.0  0.0       0.0         0.0   \n",
       "1               2025-03-16 12:30:00           0.0  0.0       0.0         0.0   \n",
       "2               2025-03-17 19:30:00           0.0  0.0       0.0         0.0   \n",
       "3               2025-03-17 23:30:00           0.0  0.0       0.0         0.0   \n",
       "4               2025-03-18 18:30:00           0.0  0.0       0.0         0.0   \n",
       "\n",
       "specific_source  Etfdailynews  Fool  Forbes  Foxbusiness  Globenewswire  ...  \\\n",
       "0                         0.0   0.0     0.0          0.0            0.0  ...   \n",
       "1                         0.0   0.0     0.0          0.0            0.0  ...   \n",
       "2                         0.0   0.0     0.0          0.0            0.0  ...   \n",
       "3                         0.0   0.0     0.0          0.0            0.0  ...   \n",
       "4                         0.0   0.0     0.0          0.0            0.0  ...   \n",
       "\n",
       "specific_source  Ndtv  StockMarket  Techcrunch  Telegraph  Thestreet  Verdict  \\\n",
       "0                 0.0          4.0         0.0        0.0        0.0      0.0   \n",
       "1                 0.0          0.0         0.0        0.0        0.0      0.0   \n",
       "2                 0.0          3.0         0.0        0.0        0.0      0.0   \n",
       "3                 0.0          0.0         0.0        0.0        0.0      0.0   \n",
       "4                 0.0          0.0         0.0        0.0        0.0      0.0   \n",
       "\n",
       "specific_source  Yahoo Finance  investing  stocks  wallstreetbets  \n",
       "0                          0.0        3.0     0.0             0.0  \n",
       "1                          0.0        0.0     3.0             0.0  \n",
       "2                          0.0        0.0     0.0             0.0  \n",
       "3                          0.0        0.0     0.0             5.0  \n",
       "4                          0.0        0.0     4.0             0.0  \n",
       "\n",
       "[5 rows x 23 columns]"
      ]
     },
     "execution_count": 11,
     "metadata": {},
     "output_type": "execute_result"
    }
   ],
   "source": [
    "pivot = pivot.reset_index()\n",
    "pivot.head()"
   ]
  },
  {
   "cell_type": "markdown",
   "id": "05495074",
   "metadata": {},
   "source": [
    "Aggregate hourly bin"
   ]
  },
  {
   "cell_type": "code",
   "execution_count": 12,
   "id": "1f462f8e",
   "metadata": {},
   "outputs": [],
   "source": [
    "# Function to aggregate scores per hour\n",
    "def aggregate_scores(row, weights):\n",
    "    sources = row.index  \n",
    "    weighted_sum = sum(weights[i] * row[s] for i, s in enumerate(sources))\n",
    "    weight_total = sum(weights)\n",
    "    return weighted_sum / weight_total if weight_total != 0 else 0\n",
    "\n",
    "\n",
    "# Function to compute clustering quality\n",
    "def clustering_quality(aggregated_scores, n_clusters=5):\n",
    "    y = np.array(aggregated_scores).reshape(-1, 1)\n",
    "    kmeans = KMeans(n_clusters=n_clusters, random_state=0).fit(y)\n",
    "    labels = kmeans.labels_\n",
    "    score = silhouette_score(y, labels)\n",
    "    return score"
   ]
  },
  {
   "cell_type": "code",
   "execution_count": null,
   "id": "91956844",
   "metadata": {},
   "outputs": [],
   "source": [
    "source_names = pivot.columns[1:]  \n",
    "initial_weights = np.ones(len(source_names)) / len(source_names)    # Starting guessed weights 1/22\n",
    "aggregated_scores = pivot[source_names].apply(lambda row: aggregate_scores(row, initial_weights), axis=1)"
   ]
  },
  {
   "cell_type": "markdown",
   "id": "0103c074",
   "metadata": {},
   "source": [
    "### Find optimal n_clusters using elbow method"
   ]
  },
  {
   "cell_type": "code",
   "execution_count": 14,
   "id": "6d7d9d06",
   "metadata": {},
   "outputs": [
    {
     "data": {
      "image/png": "[encoded data removed]",
      "text/plain": [
       "<Figure size 640x480 with 1 Axes>"
      ]
     },
     "metadata": {},
     "output_type": "display_data"
    }
   ],
   "source": [
    "cluster_range = range(2, 11)\n",
    "wcss = []\n",
    "\n",
    "# Calculate WCSS for each value of n_clusters\n",
    "for n_clusters in cluster_range:\n",
    "    kmeans = KMeans(n_clusters=n_clusters, random_state=0)\n",
    "    kmeans.fit(aggregated_scores.values.reshape(-1, 1))  # Reshape for single feature (aggregated scores)\n",
    "    wcss.append(kmeans.inertia_)  # Inertia is the WCSS for that model\n",
    "\n",
    "# Plot the Elbow Method (WCSS vs. Number of Clusters)\n",
    "plt.plot(cluster_range, wcss, marker='o')\n",
    "plt.xlabel('Number of Clusters')\n",
    "plt.ylabel('WCSS (Within-Cluster Sum of Squares)')\n",
    "plt.title('Elbow Method for Optimal Clusters')\n",
    "plt.xticks(cluster_range)\n",
    "plt.grid(True)\n",
    "plt.show()"
   ]
  },
  {
   "cell_type": "markdown",
   "id": "9a927596",
   "metadata": {},
   "source": [
    "Based on the elbow method, n_clusters=4 is chosen."
   ]
  },
  {
   "cell_type": "markdown",
   "id": "d80bdee7",
   "metadata": {},
   "source": [
    "### Plot the clusters"
   ]
  },
  {
   "cell_type": "code",
   "execution_count": 15,
   "id": "cecfb3fb",
   "metadata": {},
   "outputs": [
    {
     "data": {
      "image/png": "[encoded data removed]",
      "text/plain": [
       "<Figure size 1000x600 with 2 Axes>"
      ]
     },
     "metadata": {},
     "output_type": "display_data"
    }
   ],
   "source": [
    "# Prepare for clustering\n",
    "X = np.array(aggregated_scores).reshape(-1, 1)\n",
    "\n",
    "# Run KMeans\n",
    "kmeans = KMeans(n_clusters=4, random_state=0, n_init=10)\n",
    "labels = kmeans.fit_predict(X)\n",
    "\n",
    "# Sort by risk score for better visual\n",
    "sorted_idx = np.argsort(X[:, 0])\n",
    "X_sorted = X[sorted_idx]\n",
    "labels_sorted = np.array(labels)[sorted_idx]\n",
    "\n",
    "plt.figure(figsize=(10, 6))\n",
    "\n",
    "# Scatter plot: risk score vs cluster\n",
    "plt.scatter(range(len(X_sorted)), X_sorted[:, 0], c=labels_sorted, cmap='viridis', s=50)\n",
    "\n",
    "plt.title('KMeans Clustering of Aggregated Risk Scores')\n",
    "plt.xlabel('Sample (sorted by risk score)')\n",
    "plt.ylabel('Aggregated Risk Score')\n",
    "plt.colorbar(label='Cluster')\n",
    "plt.grid(True)\n",
    "plt.show()"
   ]
  },
  {
   "cell_type": "markdown",
   "id": "e46f32b6",
   "metadata": {},
   "source": [
    "### Optimize the weights"
   ]
  },
  {
   "cell_type": "code",
   "execution_count": 16,
   "id": "d57d08f5",
   "metadata": {},
   "outputs": [
    {
     "name": "stdout",
     "output_type": "stream",
     "text": [
      "investing: 0.0360\n",
      "StockMarket: 0.0647\n",
      "stocks: 0.0297\n",
      "wallstreetbets: 0.0609\n",
      "Etfdailynews: 0.0445\n",
      "Ndtv: 0.0411\n",
      "Forbes: 0.0411\n",
      "Globenewswire: 0.0322\n",
      "Nbcnews: 0.0402\n",
      "Investopedia: 0.0492\n",
      "Bostonherald: 0.0587\n",
      "Yahoo Finance: 0.0411\n",
      "Coindesk: 0.0405\n",
      "Foxbusiness: 0.0411\n",
      "Telegraph: 0.0645\n",
      "Fool: 0.0322\n",
      "Techcrunch: 0.0617\n",
      "Cnn: 0.0514\n",
      "Thestreet: 0.0411\n",
      "Verdict: 0.0480\n",
      "Denverpost: 0.0386\n",
      "Marketwatch: 0.0411\n"
     ]
    }
   ],
   "source": [
    "from scipy.optimize import minimize\n",
    "\n",
    "# Loss function to minimize (negative silhouette score)\n",
    "def loss(weights, data):\n",
    "    weights = np.clip(weights, 1e-6, None)\n",
    "    agg_scores = data.apply(lambda row: aggregate_scores(row, weights), axis=1)\n",
    "    return -clustering_quality(agg_scores, n_clusters=4)\n",
    "\n",
    "# Constraint the sum of weights = 1\n",
    "constraints = {'type': 'eq', 'fun': lambda w: np.sum(w) - 1}\n",
    "\n",
    "result = minimize(loss,\n",
    "                  x0=initial_weights,\n",
    "                  args=(pivot[source_names],),\n",
    "                  bounds = [(0.02, 1.0)] * len(source_names),\n",
    "                  constraints=[constraints])\n",
    "\n",
    "optimal_weights = result.x\n",
    "#  Re-normalize after optimization\n",
    "weights = optimal_weights / np.sum(optimal_weights)\n",
    "\n",
    "\n",
    "for source, weight in zip(unique_source, weights):\n",
    "    print(f\"{source}: {weight:.4f}\")"
   ]
  }
 ],
 "metadata": {
  "kernelspec": {
   "display_name": "Python 3",
   "language": "python",
   "name": "python3"
  },
  "language_info": {
   "codemirror_mode": {
    "name": "ipython",
    "version": 3
   },
   "file_extension": ".py",
   "mimetype": "text/x-python",
   "name": "python",
   "nbconvert_exporter": "python",
   "pygments_lexer": "ipython3",
   "version": "3.12.9"
  }
 },
 "nbformat": 4,
 "nbformat_minor": 5
}
